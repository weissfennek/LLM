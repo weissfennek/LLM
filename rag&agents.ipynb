{
  "cells": [
    {
      "cell_type": "markdown",
      "source": [
        "This notebook is for the SMART Workshop (Djerba, Dec 2024). It covers an implementation of a RAG system in part I and introduces a simple agentic system in part II.\n"
      ],
      "metadata": {
        "id": "Vg1zNVsLNDp1"
      },
      "id": "Vg1zNVsLNDp1"
    },
    {
      "cell_type": "markdown",
      "id": "41ce62a8-251f-4f9e-b375-e93a5861c3fe",
      "metadata": {
        "id": "41ce62a8-251f-4f9e-b375-e93a5861c3fe"
      },
      "source": [
        "# Part I Rag From Scratch\n"
      ]
    },
    {
      "cell_type": "code",
      "source": [
        "import google.generativeai as genai\n",
        "\n",
        "genai.configure(api_key=\"your_api_key\")\n",
        "model = genai.GenerativeModel(\"gemini-1.5-flash\")\n",
        "response = model.generate_content(\"tell me about Djerba\")\n",
        "print(response.text)"
      ],
      "metadata": {
        "colab": {
          "base_uri": "https://localhost:8080/",
          "height": 558
        },
        "id": "4dk-8Z6DPdwv",
        "outputId": "ae945c60-c386-4cc8-c549-9f87bd00c4ba"
      },
      "id": "4dk-8Z6DPdwv",
      "execution_count": null,
      "outputs": [
        {
          "output_type": "stream",
          "name": "stdout",
          "text": [
            "Djerba (or Jerba) is an island off the coast of Tunisia in North Africa, located in the Gulf of Gabès.  It's the largest island in North Africa and is known for its distinct culture, beautiful beaches, and rich history. Here's a breakdown of what makes Djerba special:\n",
            "\n",
            "**Key Features:**\n",
            "\n",
            "* **Beaches:** Djerba boasts stunning beaches, renowned for their fine, white sand and turquoise waters.  Many resorts cater to tourists seeking sun, sea, and sand holidays.  The island is a popular destination for beach vacations, especially for Europeans.\n",
            "\n",
            "* **Culture:** Djerba has a unique blend of Berber, Arab, and Jewish cultures, creating a fascinating tapestry of traditions.  The island's history is marked by the peaceful coexistence of these groups, though unfortunately, many Jewish residents emigrated following Tunisian independence. The island's distinct architecture, cuisine, and customs reflect this multicultural heritage.  You'll see influences reflected in the architecture, clothing, food, and social customs.\n",
            "\n",
            "* **History:**  Djerba has a long and rich history, dating back to antiquity. It's believed to be the legendary island of the lotus-eaters from Homer's Odyssey.  Evidence of Phoenician, Roman, and other ancient civilizations has been found on the island, contributing to its rich cultural heritage.  The Guellala village, known for its pottery, is a good example of Djerba's long history.\n",
            "\n",
            "* **Tourism:**  Tourism is a major part of Djerba's economy. The island offers a wide range of activities, including water sports, exploring traditional villages, visiting historical sites, and experiencing the local culture.  Most tourist infrastructure is concentrated in the north of the island, around Houmt Souk (the main town).\n",
            "\n",
            "* **Houmt Souk:** This is the main town and commercial center of Djerba.  It offers a vibrant atmosphere, a bustling market (souk), and a range of restaurants and shops.\n",
            "\n",
            "* **Traditional Villages:**  Explore villages like Guellala (famous for pottery) and Erriadh (known for its traditional architecture).  These places offer a glimpse into authentic Djerban life.\n",
            "\n",
            "* **Synagogues:** The El Ghriba Synagogue is the oldest in North Africa and a significant site for Jewish heritage, attracting Jewish pilgrims from around the world.\n",
            "\n",
            "\n",
            "**Things to consider:**\n",
            "\n",
            "* **Tourist Season:** The best time to visit is during the spring and fall for pleasant temperatures. Summers can be extremely hot.\n",
            "\n",
            "* **Transportation:**  Getting around Djerba is relatively easy, with taxis, buses, and rental cars available.\n",
            "\n",
            "* **Accommodation:**  The island offers a range of accommodation options, from budget-friendly guesthouses to luxurious resorts.\n",
            "\n",
            "\n",
            "In short, Djerba offers a unique blend of relaxation, cultural exploration, and historical immersion. It's a perfect destination for those seeking a sun-drenched getaway with a touch of authentic North African charm.\n",
            "\n"
          ]
        }
      ]
    },
    {
      "cell_type": "code",
      "execution_count": null,
      "id": "3a88555a-53a5-4ab8-ba3d-e6dd3a26c71a",
      "metadata": {
        "id": "3a88555a-53a5-4ab8-ba3d-e6dd3a26c71a"
      },
      "outputs": [],
      "source": [
        "! pip install langchain langchain-chroma langchain-google-genai"
      ]
    },
    {
      "cell_type": "markdown",
      "id": "75a8ab66-8477-429f-bbbe-ba439322d085",
      "metadata": {
        "id": "75a8ab66-8477-429f-bbbe-ba439322d085"
      },
      "source": [
        "`(2) LangSmith`\n",
        "\n",
        "https://docs.smith.langchain.com/"
      ]
    },
    {
      "cell_type": "code",
      "source": [
        "import os\n",
        "os.environ['LANGCHAIN_API_KEY'] = 'your_api_key'\n",
        "os.environ['LANGCHAIN_TRACING_V2'] = 'true'\n",
        "os.environ['LANGCHAIN_ENDPOINT'] = 'https://api.smith.langchain.com'\n",
        "os.environ['GOOGLE_API_KEY'] = 'your_api_key'"
      ],
      "metadata": {
        "id": "cZkfZanGshpT"
      },
      "id": "cZkfZanGshpT",
      "execution_count": null,
      "outputs": []
    },
    {
      "cell_type": "markdown",
      "source": [
        "Imports"
      ],
      "metadata": {
        "id": "PIVKES1D-a6T"
      },
      "id": "PIVKES1D-a6T"
    },
    {
      "cell_type": "code",
      "source": [
        "import bs4\n",
        "from langchain import hub\n",
        "from langchain_core.output_parsers import StrOutputParser\n",
        "from langchain_core.runnables import RunnablePassthrough\n",
        "from langchain_google_genai import ChatGoogleGenerativeAI,GoogleGenerativeAIEmbeddings\n",
        "from langchain.schema import Document\n",
        "from langchain_core.vectorstores import InMemoryVectorStore\n",
        "\n"
      ],
      "metadata": {
        "id": "2bWsftyzOl5D"
      },
      "id": "2bWsftyzOl5D",
      "execution_count": null,
      "outputs": []
    },
    {
      "cell_type": "markdown",
      "source": [
        "Loading data"
      ],
      "metadata": {
        "id": "uC0pNH2t-dDj"
      },
      "id": "uC0pNH2t-dDj"
    },
    {
      "cell_type": "code",
      "source": [
        "import pandas as pd\n",
        "\n",
        "#TODO add file name\n",
        "#TODO add separator type\n",
        "df = pd.read_csv('your_file_name.csv', sep='separator_type')  # Load the CSV file\n",
        "\n",
        "print(df['Abstract'].head(2)) #print first two abstracts"
      ],
      "metadata": {
        "colab": {
          "base_uri": "https://localhost:8080/"
        },
        "id": "RzZnnmdGOoPt",
        "outputId": "3fbc3f13-46da-4f5f-fbfc-398d227998c4"
      },
      "id": "RzZnnmdGOoPt",
      "execution_count": null,
      "outputs": [
        {
          "output_type": "stream",
          "name": "stdout",
          "text": [
            "0    Wireless sensor network (WSN) plays an importa...\n",
            "1    No matter when, transportation construction is...\n",
            "Name: Abstract, dtype: object\n"
          ]
        }
      ]
    },
    {
      "cell_type": "markdown",
      "source": [
        "Split the text into chunks\n",
        "not needed in this example because the data is already divided, where each row is a separate element"
      ],
      "metadata": {
        "id": "H9WAdhXK-m8Z"
      },
      "id": "H9WAdhXK-m8Z"
    },
    {
      "cell_type": "code",
      "source": [
        "from langchain.text_splitter import RecursiveCharacterTextSplitter\n",
        "\n",
        "text_splitter = RecursiveCharacterTextSplitter(\n",
        "    chunk_size=500,  # Size of each chunk\n",
        "    chunk_overlap=50  # Overlap between chunks\n",
        ")\n",
        "chunks = text_splitter.split_documents(documents)"
      ],
      "metadata": {
        "id": "QJpFi48aOsj7"
      },
      "id": "QJpFi48aOsj7",
      "execution_count": null,
      "outputs": []
    },
    {
      "cell_type": "markdown",
      "source": [
        "create and populate a vector database"
      ],
      "metadata": {
        "id": "HDdFZ4Lb-8Ck"
      },
      "id": "HDdFZ4Lb-8Ck"
    },
    {
      "cell_type": "code",
      "source": [
        "from langchain_chroma import Chroma\n",
        "\n",
        "# create a chroma database\n",
        "# here we are using the google AI embedding.\n",
        "\n",
        "embeddings = GoogleGenerativeAIEmbeddings(model=\"models/embedding-001\")\n",
        "\n",
        "#TODO add embeddings\n",
        "vector_store = Chroma(\n",
        "    collection_name=\"abstract_collection\",\n",
        "    embedding_function= your_embeddings,\n",
        "    persist_directory=\"./chroma_langchain_db\",  # Where to save data locally, remove if not necessary\n",
        ")\n",
        "\n",
        "#since the elements are already split, we will put every abstract in a document\n",
        "\n",
        "docs = [Document(page_content=abstract) for abstract in  df['Abstract']]\n",
        "\n",
        "vector_store.add_documents(documents=docs)"
      ],
      "metadata": {
        "id": "Nit9ErKgxY72"
      },
      "id": "Nit9ErKgxY72",
      "execution_count": null,
      "outputs": []
    },
    {
      "cell_type": "markdown",
      "source": [
        "search for an element in the database using similarity search"
      ],
      "metadata": {
        "id": "ZZ3hQ0aaLGrv"
      },
      "id": "ZZ3hQ0aaLGrv"
    },
    {
      "cell_type": "code",
      "source": [
        "#TODO add your questions\n",
        "results = vector_store.similarity_search(\n",
        "    \"add_your_question\",\n",
        "  k=2,\n",
        ")\n",
        "print(results)"
      ],
      "metadata": {
        "id": "6zsNLnurBF81",
        "colab": {
          "base_uri": "https://localhost:8080/"
        },
        "outputId": "66f2d08a-7696-48d7-dab4-22d8e39b7296"
      },
      "id": "6zsNLnurBF81",
      "execution_count": null,
      "outputs": [
        {
          "output_type": "stream",
          "name": "stdout",
          "text": [
            "[Document(metadata={}, page_content='Wireless sensor network (WSN) plays an important role in information collection and processing in Intelligent Transportation Systems (ITS) recently. With rapid development of ITS, the size and complexity of WSN is rapidly increasing. Thus, how to evaluate the reliability of large-scale WSN has attracted more and more attention. In this article, reliability is defined as the probability that the WSN is functional. A confident information coverage (CIC) model-based reliability algorithm (CICRA) is proposed to comprehensively consider coverage reliability and connectivity reliability. Especially, to determine the impact of failing nodes on connectivity in large-scale WSN, a grid clustering connectivity algorithm (GCCA) is proposed to reduce the complexity of computing the connectivity between large-scale wireless sensor nodes, which transforms the connectivity problem between nodes into a grid connectivity problem. In addition, a 3-order tensor modeling is proposed to uniformly represent and model node states, node combinations, and coverage patterns. Furthermore, the network reliability combines coverage reliability and connectivity reliability is evaluated by tensor modeling. Simulation results indicate that the proposed CICRA can improve the network reliability and accuracy of reliability evaluation.'), Document(metadata={}, page_content='Wireless sensor nodes are vulnerable to interference or intrusion, especially in the tunnel scenario of intelligent transportation, which leads to potential risks to network security and reliability. Reliable coverage can ensure data perception and transmission, which helps to strengthen the reliability and quality of service (QoS) of wireless sensor networks (WSNs). Existing coverage models, such as the disc model, do not consider malicious intrusion, which still has a great gap with the realistic application scenarios. Therefore, it is urgent to study a coverage model considering network intrusion and node reliability. In this paper, a novel trust-based reliable confident information coverage (T-RCIC) model is proposed based on the confident information coverage (CIC) model and trust management. Trust management is adopted to determine whether a node is trusted, critical trusted, or malicious. If a node is identified as malicious, all its functions will be blocked. For critical trusted nodes, the trust value is utilized to determine the trust feature distance to reduce its proportion of coverage estimation. Furthermore, the reliable coverage degree (RCD) is defined to evaluate coverage reliability from node trust value and reliable coverage percentage. Simulation results indicate that the proposed model inherits the advantages of the CIC model in the spatial correlation and can effectively identify malicious nodes. The proposed T-RCIC model can significantly enhance coverage reliability.')]\n"
          ]
        }
      ]
    },
    {
      "cell_type": "code",
      "execution_count": null,
      "id": "98070313-0c2f-4ba6-ae3e-79e2418ce4df",
      "metadata": {
        "id": "98070313-0c2f-4ba6-ae3e-79e2418ce4df",
        "colab": {
          "base_uri": "https://localhost:8080/",
          "height": 53
        },
        "outputId": "a5efd255-51a7-412c-c5e0-54f60103d349"
      },
      "outputs": [
        {
          "output_type": "execute_result",
          "data": {
            "text/plain": [
              "'Reliability in the context of WSN is defined as the probability that the WSN is functional. It is a measure of the ability of the WSN to perform its intended function under specified conditions. Reliability is an important aspect of WSN design, as it affects the overall performance and dependability of the system.'"
            ],
            "application/vnd.google.colaboratory.intrinsic+json": {
              "type": "string"
            }
          },
          "metadata": {},
          "execution_count": 22
        }
      ],
      "source": [
        "\n",
        "#### RETRIEVAL and GENERATION ####\n",
        "\n",
        "# Prompt\n",
        "prompt = hub.pull(\"rlm/rag-prompt\")\n",
        "\n",
        "# LLM\n",
        "#TODO add your model\n",
        "llm = ChatGoogleGenerativeAI(model=\"your_model\", temperature=0.3)\n",
        "\n",
        "# Post-processing\n",
        "def format_docs(docs):\n",
        "    return \"\\n\\n\".join(doc.page_content for doc in docs)\n",
        "\n",
        "\n",
        "qa_chain = (\n",
        "    {\n",
        "        \"context\": vector_store.as_retriever() | format_docs,\n",
        "        \"question\": RunnablePassthrough(),\n",
        "    }\n",
        "    | prompt\n",
        "    | llm\n",
        "    | StrOutputParser()\n",
        ")\n",
        "\n",
        "qa_chain.invoke(\"what is reliability in the context of WSN?\")\n",
        "\n"
      ]
    },
    {
      "cell_type": "markdown",
      "source": [
        "Adding a web interface"
      ],
      "metadata": {
        "id": "uPuwgInhLmyh"
      },
      "id": "uPuwgInhLmyh"
    },
    {
      "cell_type": "code",
      "source": [
        "!pip install gradio"
      ],
      "metadata": {
        "colab": {
          "base_uri": "https://localhost:8080/"
        },
        "id": "Fs8qxwPUHY-N",
        "outputId": "4d49845e-8b5b-4d46-e78a-3412d0550acd"
      },
      "id": "Fs8qxwPUHY-N",
      "execution_count": null,
      "outputs": [
        {
          "output_type": "stream",
          "name": "stdout",
          "text": [
            "Collecting gradio\n",
            "  Downloading gradio-5.9.1-py3-none-any.whl.metadata (16 kB)\n",
            "Collecting aiofiles<24.0,>=22.0 (from gradio)\n",
            "  Downloading aiofiles-23.2.1-py3-none-any.whl.metadata (9.7 kB)\n",
            "Requirement already satisfied: anyio<5.0,>=3.0 in /usr/local/lib/python3.10/dist-packages (from gradio) (3.7.1)\n",
            "Requirement already satisfied: fastapi<1.0,>=0.115.2 in /usr/local/lib/python3.10/dist-packages (from gradio) (0.115.6)\n",
            "Collecting ffmpy (from gradio)\n",
            "  Downloading ffmpy-0.5.0-py3-none-any.whl.metadata (3.0 kB)\n",
            "Collecting gradio-client==1.5.2 (from gradio)\n",
            "  Downloading gradio_client-1.5.2-py3-none-any.whl.metadata (7.1 kB)\n",
            "Requirement already satisfied: httpx>=0.24.1 in /usr/local/lib/python3.10/dist-packages (from gradio) (0.28.1)\n",
            "Requirement already satisfied: huggingface-hub>=0.25.1 in /usr/local/lib/python3.10/dist-packages (from gradio) (0.27.0)\n",
            "Requirement already satisfied: jinja2<4.0 in /usr/local/lib/python3.10/dist-packages (from gradio) (3.1.4)\n",
            "Collecting markupsafe~=2.0 (from gradio)\n",
            "  Downloading MarkupSafe-2.1.5-cp310-cp310-manylinux_2_17_x86_64.manylinux2014_x86_64.whl.metadata (3.0 kB)\n",
            "Requirement already satisfied: numpy<3.0,>=1.0 in /usr/local/lib/python3.10/dist-packages (from gradio) (1.26.4)\n",
            "Requirement already satisfied: orjson~=3.0 in /usr/local/lib/python3.10/dist-packages (from gradio) (3.10.12)\n",
            "Requirement already satisfied: packaging in /usr/local/lib/python3.10/dist-packages (from gradio) (24.2)\n",
            "Requirement already satisfied: pandas<3.0,>=1.0 in /usr/local/lib/python3.10/dist-packages (from gradio) (2.2.2)\n",
            "Requirement already satisfied: pillow<12.0,>=8.0 in /usr/local/lib/python3.10/dist-packages (from gradio) (11.0.0)\n",
            "Requirement already satisfied: pydantic>=2.0 in /usr/local/lib/python3.10/dist-packages (from gradio) (2.10.3)\n",
            "Collecting pydub (from gradio)\n",
            "  Downloading pydub-0.25.1-py2.py3-none-any.whl.metadata (1.4 kB)\n",
            "Collecting python-multipart>=0.0.18 (from gradio)\n",
            "  Downloading python_multipart-0.0.20-py3-none-any.whl.metadata (1.8 kB)\n",
            "Requirement already satisfied: pyyaml<7.0,>=5.0 in /usr/local/lib/python3.10/dist-packages (from gradio) (6.0.2)\n",
            "Collecting ruff>=0.2.2 (from gradio)\n",
            "  Downloading ruff-0.8.4-py3-none-manylinux_2_17_x86_64.manylinux2014_x86_64.whl.metadata (25 kB)\n",
            "Collecting safehttpx<0.2.0,>=0.1.6 (from gradio)\n",
            "  Downloading safehttpx-0.1.6-py3-none-any.whl.metadata (4.2 kB)\n",
            "Collecting semantic-version~=2.0 (from gradio)\n",
            "  Downloading semantic_version-2.10.0-py2.py3-none-any.whl.metadata (9.7 kB)\n",
            "Requirement already satisfied: starlette<1.0,>=0.40.0 in /usr/local/lib/python3.10/dist-packages (from gradio) (0.41.3)\n",
            "Collecting tomlkit<0.14.0,>=0.12.0 (from gradio)\n",
            "  Downloading tomlkit-0.13.2-py3-none-any.whl.metadata (2.7 kB)\n",
            "Requirement already satisfied: typer<1.0,>=0.12 in /usr/local/lib/python3.10/dist-packages (from gradio) (0.15.1)\n",
            "Requirement already satisfied: typing-extensions~=4.0 in /usr/local/lib/python3.10/dist-packages (from gradio) (4.12.2)\n",
            "Requirement already satisfied: uvicorn>=0.14.0 in /usr/local/lib/python3.10/dist-packages (from gradio) (0.34.0)\n",
            "Requirement already satisfied: fsspec in /usr/local/lib/python3.10/dist-packages (from gradio-client==1.5.2->gradio) (2024.10.0)\n",
            "Requirement already satisfied: websockets<15.0,>=10.0 in /usr/local/lib/python3.10/dist-packages (from gradio-client==1.5.2->gradio) (14.1)\n",
            "Requirement already satisfied: idna>=2.8 in /usr/local/lib/python3.10/dist-packages (from anyio<5.0,>=3.0->gradio) (3.10)\n",
            "Requirement already satisfied: sniffio>=1.1 in /usr/local/lib/python3.10/dist-packages (from anyio<5.0,>=3.0->gradio) (1.3.1)\n",
            "Requirement already satisfied: exceptiongroup in /usr/local/lib/python3.10/dist-packages (from anyio<5.0,>=3.0->gradio) (1.2.2)\n",
            "Requirement already satisfied: certifi in /usr/local/lib/python3.10/dist-packages (from httpx>=0.24.1->gradio) (2024.12.14)\n",
            "Requirement already satisfied: httpcore==1.* in /usr/local/lib/python3.10/dist-packages (from httpx>=0.24.1->gradio) (1.0.7)\n",
            "Requirement already satisfied: h11<0.15,>=0.13 in /usr/local/lib/python3.10/dist-packages (from httpcore==1.*->httpx>=0.24.1->gradio) (0.14.0)\n",
            "Requirement already satisfied: filelock in /usr/local/lib/python3.10/dist-packages (from huggingface-hub>=0.25.1->gradio) (3.16.1)\n",
            "Requirement already satisfied: requests in /usr/local/lib/python3.10/dist-packages (from huggingface-hub>=0.25.1->gradio) (2.32.3)\n",
            "Requirement already satisfied: tqdm>=4.42.1 in /usr/local/lib/python3.10/dist-packages (from huggingface-hub>=0.25.1->gradio) (4.67.1)\n",
            "Requirement already satisfied: python-dateutil>=2.8.2 in /usr/local/lib/python3.10/dist-packages (from pandas<3.0,>=1.0->gradio) (2.8.2)\n",
            "Requirement already satisfied: pytz>=2020.1 in /usr/local/lib/python3.10/dist-packages (from pandas<3.0,>=1.0->gradio) (2024.2)\n",
            "Requirement already satisfied: tzdata>=2022.7 in /usr/local/lib/python3.10/dist-packages (from pandas<3.0,>=1.0->gradio) (2024.2)\n",
            "Requirement already satisfied: annotated-types>=0.6.0 in /usr/local/lib/python3.10/dist-packages (from pydantic>=2.0->gradio) (0.7.0)\n",
            "Requirement already satisfied: pydantic-core==2.27.1 in /usr/local/lib/python3.10/dist-packages (from pydantic>=2.0->gradio) (2.27.1)\n",
            "Requirement already satisfied: click>=8.0.0 in /usr/local/lib/python3.10/dist-packages (from typer<1.0,>=0.12->gradio) (8.1.7)\n",
            "Requirement already satisfied: shellingham>=1.3.0 in /usr/local/lib/python3.10/dist-packages (from typer<1.0,>=0.12->gradio) (1.5.4)\n",
            "Requirement already satisfied: rich>=10.11.0 in /usr/local/lib/python3.10/dist-packages (from typer<1.0,>=0.12->gradio) (13.9.4)\n",
            "Requirement already satisfied: six>=1.5 in /usr/local/lib/python3.10/dist-packages (from python-dateutil>=2.8.2->pandas<3.0,>=1.0->gradio) (1.17.0)\n",
            "Requirement already satisfied: markdown-it-py>=2.2.0 in /usr/local/lib/python3.10/dist-packages (from rich>=10.11.0->typer<1.0,>=0.12->gradio) (3.0.0)\n",
            "Requirement already satisfied: pygments<3.0.0,>=2.13.0 in /usr/local/lib/python3.10/dist-packages (from rich>=10.11.0->typer<1.0,>=0.12->gradio) (2.18.0)\n",
            "Requirement already satisfied: charset-normalizer<4,>=2 in /usr/local/lib/python3.10/dist-packages (from requests->huggingface-hub>=0.25.1->gradio) (3.4.0)\n",
            "Requirement already satisfied: urllib3<3,>=1.21.1 in /usr/local/lib/python3.10/dist-packages (from requests->huggingface-hub>=0.25.1->gradio) (2.2.3)\n",
            "Requirement already satisfied: mdurl~=0.1 in /usr/local/lib/python3.10/dist-packages (from markdown-it-py>=2.2.0->rich>=10.11.0->typer<1.0,>=0.12->gradio) (0.1.2)\n",
            "Downloading gradio-5.9.1-py3-none-any.whl (57.2 MB)\n",
            "\u001b[2K   \u001b[90m━━━━━━━━━━━━━━━━━━━━━━━━━━━━━━━━━━━━━━━━\u001b[0m \u001b[32m57.2/57.2 MB\u001b[0m \u001b[31m9.4 MB/s\u001b[0m eta \u001b[36m0:00:00\u001b[0m\n",
            "\u001b[?25hDownloading gradio_client-1.5.2-py3-none-any.whl (320 kB)\n",
            "\u001b[2K   \u001b[90m━━━━━━━━━━━━━━━━━━━━━━━━━━━━━━━━━━━━━━━━\u001b[0m \u001b[32m320.4/320.4 kB\u001b[0m \u001b[31m24.0 MB/s\u001b[0m eta \u001b[36m0:00:00\u001b[0m\n",
            "\u001b[?25hDownloading aiofiles-23.2.1-py3-none-any.whl (15 kB)\n",
            "Downloading MarkupSafe-2.1.5-cp310-cp310-manylinux_2_17_x86_64.manylinux2014_x86_64.whl (25 kB)\n",
            "Downloading python_multipart-0.0.20-py3-none-any.whl (24 kB)\n",
            "Downloading ruff-0.8.4-py3-none-manylinux_2_17_x86_64.manylinux2014_x86_64.whl (11.2 MB)\n",
            "\u001b[2K   \u001b[90m━━━━━━━━━━━━━━━━━━━━━━━━━━━━━━━━━━━━━━━━\u001b[0m \u001b[32m11.2/11.2 MB\u001b[0m \u001b[31m57.5 MB/s\u001b[0m eta \u001b[36m0:00:00\u001b[0m\n",
            "\u001b[?25hDownloading safehttpx-0.1.6-py3-none-any.whl (8.7 kB)\n",
            "Downloading semantic_version-2.10.0-py2.py3-none-any.whl (15 kB)\n",
            "Downloading tomlkit-0.13.2-py3-none-any.whl (37 kB)\n",
            "Downloading ffmpy-0.5.0-py3-none-any.whl (6.0 kB)\n",
            "Downloading pydub-0.25.1-py2.py3-none-any.whl (32 kB)\n",
            "Installing collected packages: pydub, tomlkit, semantic-version, ruff, python-multipart, markupsafe, ffmpy, aiofiles, safehttpx, gradio-client, gradio\n",
            "  Attempting uninstall: markupsafe\n",
            "    Found existing installation: MarkupSafe 3.0.2\n",
            "    Uninstalling MarkupSafe-3.0.2:\n",
            "      Successfully uninstalled MarkupSafe-3.0.2\n",
            "Successfully installed aiofiles-23.2.1 ffmpy-0.5.0 gradio-5.9.1 gradio-client-1.5.2 markupsafe-2.1.5 pydub-0.25.1 python-multipart-0.0.20 ruff-0.8.4 safehttpx-0.1.6 semantic-version-2.10.0 tomlkit-0.13.2\n"
          ]
        }
      ]
    },
    {
      "cell_type": "code",
      "source": [
        "import gradio as gr\n",
        "\n",
        "def rag_search(question):\n",
        "    return qa_chain.invoke(question)\n",
        "\n",
        "#TODO add function\n",
        "demo = gr.Interface(fn=your_function, inputs=\"text\", outputs=\"text\")\n",
        "demo.launch()"
      ],
      "metadata": {
        "colab": {
          "base_uri": "https://localhost:8080/",
          "height": 626
        },
        "id": "G1YwIGb1G6MG",
        "outputId": "8fe63d55-ca55-443c-b2df-99eb578ad258"
      },
      "id": "G1YwIGb1G6MG",
      "execution_count": null,
      "outputs": [
        {
          "output_type": "stream",
          "name": "stdout",
          "text": [
            "Running Gradio in a Colab notebook requires sharing enabled. Automatically setting `share=True` (you can turn this off by setting `share=False` in `launch()` explicitly).\n",
            "\n",
            "Colab notebook detected. To show errors in colab notebook, set debug=True in launch()\n",
            "* Running on public URL: https://7b4265991b5d78aeba.gradio.live\n",
            "\n",
            "This share link expires in 72 hours. For free permanent hosting and GPU upgrades, run `gradio deploy` from the terminal in the working directory to deploy to Hugging Face Spaces (https://huggingface.co/spaces)\n"
          ]
        },
        {
          "output_type": "display_data",
          "data": {
            "text/plain": [
              "<IPython.core.display.HTML object>"
            ],
            "text/html": [
              "<div><iframe src=\"https://7b4265991b5d78aeba.gradio.live\" width=\"100%\" height=\"500\" allow=\"autoplay; camera; microphone; clipboard-read; clipboard-write;\" frameborder=\"0\" allowfullscreen></iframe></div>"
            ]
          },
          "metadata": {}
        },
        {
          "output_type": "execute_result",
          "data": {
            "text/plain": []
          },
          "metadata": {},
          "execution_count": 25
        }
      ]
    },
    {
      "cell_type": "markdown",
      "source": [
        "# Part II: Creating agents"
      ],
      "metadata": {
        "id": "zAOKJ8r6Lsil"
      },
      "id": "zAOKJ8r6Lsil"
    },
    {
      "cell_type": "code",
      "source": [
        "pip install colorama"
      ],
      "metadata": {
        "colab": {
          "base_uri": "https://localhost:8080/"
        },
        "id": "pzhbYAnQ2AL7",
        "outputId": "9f7271f0-3d8e-4b49-9f31-ec26574dc51d"
      },
      "id": "pzhbYAnQ2AL7",
      "execution_count": null,
      "outputs": [
        {
          "output_type": "stream",
          "name": "stdout",
          "text": [
            "Collecting colorama\n",
            "  Downloading colorama-0.4.6-py2.py3-none-any.whl.metadata (17 kB)\n",
            "Downloading colorama-0.4.6-py2.py3-none-any.whl (25 kB)\n",
            "Installing collected packages: colorama\n",
            "Successfully installed colorama-0.4.6\n"
          ]
        }
      ]
    },
    {
      "cell_type": "code",
      "source": [
        "import os\n",
        "from langchain.schema import AIMessage, HumanMessage\n",
        "from colorama import Fore, Back, Style\n",
        "\n",
        "# Step 1: define an agent\n",
        "def create_agent(model_name):\n",
        "    return genai.GenerativeModel(model_name)\n",
        "\n",
        "# Step 2: Initialize two agents\n",
        "ContentGenerator = create_agent(model_name=\"gemini-1.5-flash\")\n",
        "contentReviewer = create_agent(model_name=\"gemini-1.5-flash\")  # Both agents use the same model here\n",
        "\n",
        "\n",
        "# Step 3: Start a conversation loop\n",
        "def two_agents_conversation(agent1, agent2, initial_message, rounds=5):\n",
        "    print(\"Initial Message:\", initial_message)\n",
        "    comments = \"no comments\";\n",
        "\n",
        "    for i in range(rounds):\n",
        "        print(f\"\\nRound {i + 1}:\")\n",
        "\n",
        "        # Agent 1 responds\n",
        "        response1 = agent1.generate_content(\"You are trip planer. generate a plan based on the following request:\"+initial_message\n",
        "                                            +\" while considering the follwoing comments: \"+comments\n",
        "                                            +\". your answer should be no longer than 10 lines\")\n",
        "        print(Fore.BLUE +\"Agent 1:\", response1.text)\n",
        "\n",
        "        # Pass Agent 1's response to Agent 2\n",
        "        response2 = agent2.generate_content(\"consider the following request:\"+ initial_message\n",
        "                                            + \". what do you think about the following plan. only generate comments for improvements.\"\n",
        "                                            +\"make you answer no longer than 5 lines. \"+response1.text)\n",
        "        print(Fore.RED +\"Agent 2:\", response2.text)\n",
        "\n",
        "        # Update the current message for the next round\n",
        "        comments = response2.text\n",
        "\n",
        "# Step 4: Start the conversation\n",
        "initial_message = \"three days in Tunisia\"\n",
        "two_agents_conversation(ContentGenerator, contentReviewer, initial_message)\n",
        "\n"
      ],
      "metadata": {
        "colab": {
          "base_uri": "https://localhost:8080/",
          "height": 1000
        },
        "id": "Lv3QrqnCi5S_",
        "outputId": "9a2ecc69-fa55-4e32-8f65-e8b10e658b75"
      },
      "id": "Lv3QrqnCi5S_",
      "execution_count": null,
      "outputs": [
        {
          "output_type": "stream",
          "name": "stdout",
          "text": [
            "Initial Message: three days in Tunisia\n",
            "\n",
            "Round 1:\n",
            "\u001b[34mAgent 1: Day 1: Explore Tunis Medina (old city) and the Bardo Museum.\n",
            "\n",
            "Day 2:  Travel to Sidi Bou Said, a charming blue-and-white village, then onto Carthage for historical sites.\n",
            "\n",
            "Day 3:  Desert excursion to the Sahara (optional, requires early start) or explore the coastal town of Hammamet.  Enjoy a final Tunisian dinner.\n",
            "\n",
            "\u001b[31mAgent 2: Day 3's Sahara trip is ambitious for a single day; consider a shorter desert experience or focusing solely on Hammamet.  Tunis Medina could easily take longer than a single day. Prioritize must-see sights within the time constraints.  Factor in travel time between locations, especially for Day 2.  Pre-book transportation, especially for the desert excursion.\n",
            "\n",
            "\n",
            "Round 2:\n",
            "\u001b[34mAgent 1: **Day 1:** Tunis Medina (morning/afternoon), Carthage ruins (afternoon/evening).\n",
            "\n",
            "**Day 2:** Hammamet (full day): beach, medina, optional boat trip.  Pre-book transport.\n",
            "\n",
            "**Day 3:**  Hammamet: Relax, explore further, or opt for a shorter desert experience near Hammamet (e.g., a camel ride). Pre-book transport if applicable.  Avoid a full Sahara trip.\n",
            "\n",
            "\u001b[31mAgent 2: Day 1:  Too much packed into one day; consider splitting Carthage to Day 2.\n",
            "Day 2:  Pre-booking transport is wise; specify Hammamet's attractions beyond the medina.\n",
            "Day 3:  \"Shorter desert experience\" lacks specifics; suggest a particular tour or location.\n",
            "Consider adding a cooking class or other cultural activity for a richer experience.\n",
            "Transportation between Tunis and Hammamet needs planning; investigate train options.\n",
            "\n",
            "\n",
            "Round 3:\n",
            "\u001b[34mAgent 1: **Day 1:** Explore Tunis Medina & Sidi Bou Said.  Cooking class in the afternoon.\n",
            "\n",
            "**Day 2:** Train to Hammamet. Explore Hammamet Medina,  Georges Sebastian Villa & Hammamet Beach.\n",
            "\n",
            "**Day 3:**  Day trip to Dougga Roman ruins; pre-book transport.  Evening: return to Tunis.\n",
            "\n",
            "Pre-book all transport. Consider a guided tour for Dougga.\n",
            "\n",
            "\u001b[31mAgent 2: Day 1:  Combine Tunis Medina exploration with Sidi Bou Said in the morning; cooking class might be rushed.\n",
            "\n",
            "Day 2:  Hammamet is relaxing; consider adding a Hammamet activity, like a boat trip.\n",
            "\n",
            "Day 3:  Allow ample time for Dougga & travel;  evening return to Tunis is a long journey.  Overnight in Hammamet?\n",
            "\n",
            "\n",
            "Round 4:\n",
            "\u001b[34mAgent 1: **Day 1:** Tunis Medina exploration (morning), Sidi Bou Said (afternoon).\n",
            "\n",
            "**Day 2:** Hammamet – Relax on the beach, enjoy a boat trip in the afternoon.\n",
            "\n",
            "**Day 3:** Early start for Dougga.  Overnight stay in Hammamet to avoid a late return to Tunis. Travel back to Tunis from Hammamet the following morning.\n",
            "\n",
            "\u001b[31mAgent 2: Consider a guided Medina tour for a richer experience.  Day 2 might be too beach-focused; explore Hammamet's medina or a museum.  Dougga is a long day trip; explore closer sites on Day 3 if time is tight.  Staying in Tunis all three nights streamlines travel.  Factor in travel time between locations.\n",
            "\n",
            "\n",
            "Round 5:\n",
            "\u001b[34mAgent 1: **Day 1:** Tunis: Explore the Medina with a guided tour, including the Zitouna Mosque and souks.  Evening: Enjoy a traditional Tunisian dinner.\n",
            "\n",
            "**Day 2:** Hammamet: Morning train to Hammamet. Explore the Medina and Georges Sebastian Museum. Relax on the beach in the afternoon. Return to Tunis by evening.\n",
            "\n",
            "**Day 3:**  Tunis: Visit the Bardo Museum (Roman mosaics) and Carthage ruins (consider a taxi or guided tour for efficient travel). Enjoy a final Tunisian meal.\n",
            "\n",
            "\u001b[31mAgent 2: Consider a night in Hammamet to avoid rushed travel.  Prioritize either Carthage OR Bardo Museum on Day 3; both are extensive.  Pre-book Bardo tickets to avoid queues. Explore beyond the main Medina souks in Tunis.  Factor in travel times realistically between sites.\n",
            "\n"
          ]
        }
      ]
    }
  ],
  "metadata": {
    "kernelspec": {
      "display_name": "Python 3 (ipykernel)",
      "language": "python",
      "name": "python3"
    },
    "language_info": {
      "codemirror_mode": {
        "name": "ipython",
        "version": 3
      },
      "file_extension": ".py",
      "mimetype": "text/x-python",
      "name": "python",
      "nbconvert_exporter": "python",
      "pygments_lexer": "ipython3",
      "version": "3.11.8"
    },
    "colab": {
      "provenance": []
    }
  },
  "nbformat": 4,
  "nbformat_minor": 5
}